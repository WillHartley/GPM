{
 "cells": [
  {
   "cell_type": "code",
   "execution_count": 1,
   "metadata": {},
   "outputs": [
    {
     "name": "stderr",
     "output_type": "stream",
     "text": [
      "/home/will/anaconda3/lib/python3.6/site-packages/h5py/__init__.py:36: FutureWarning: Conversion of the second argument of issubdtype from `float` to `np.floating` is deprecated. In future, it will be treated as `np.float64 == np.dtype(float).type`.\n",
      "  from ._conv import register_converters as _register_converters\n"
     ]
    },
    {
     "name": "stdout",
     "output_type": "stream",
     "text": [
      "Populating the interactive namespace from numpy and matplotlib\n"
     ]
    },
    {
     "name": "stderr",
     "output_type": "stream",
     "text": [
      "/home/will/anaconda3/lib/python3.6/site-packages/multipledispatch/dispatcher.py:24: AmbiguityWarning: \n",
      "Ambiguities exist in dispatched function _expectation\n",
      "\n",
      "The following signatures may result in ambiguous behavior:\n",
      "\t[Gaussian, Linear, NoneType, Sum, InducingPoints], [Gaussian, Identity, NoneType, Kernel, InducingPoints]\n",
      "\n",
      "\n",
      "Consider making the following additions:\n",
      "\n",
      "@dispatch(Gaussian, Identity, NoneType, Sum, InducingPoints)\n",
      "def _expectation(...)\n",
      "  warn(warning_text(dispatcher.name, ambiguities), AmbiguityWarning)\n",
      "/home/will/anaconda3/lib/python3.6/site-packages/IPython/core/magics/pylab.py:160: UserWarning: pylab import has clobbered these variables: ['copy']\n",
      "`%matplotlib` prevents importing * from pylab and numpy\n",
      "  \"\\n`%matplotlib` prevents importing * from pylab and numpy\"\n"
     ]
    }
   ],
   "source": [
    "from __future__ import print_function, division\n",
    "import numpy as np\n",
    "import matplotlib.pyplot as plt\n",
    "from scipy.stats import gaussian_kde\n",
    "from scipy.special import erfinv\n",
    "from scipy.special import erf\n",
    "import corner\n",
    "import yaml\n",
    "import generate_emulator as ge\n",
    "import gpflow\n",
    "import h5py\n",
    "import sys\n",
    "import os\n",
    "import copy\n",
    "import get_fsps_phot as gfp\n",
    "\n",
    "plt.rc('text', usetex=True)\n",
    "plt.rc('font',size=36)\n",
    "%pylab inline"
   ]
  },
  {
   "cell_type": "code",
   "execution_count": 2,
   "metadata": {},
   "outputs": [],
   "source": [
    "def priortransform(cube_arr):\n",
    "        # definition of the parameter width, by transforming from a unit cube - switched redshift to be the last index\n",
    "        # skip this, emu on unit cube\n",
    "        cube = cube_arr.copy()\n",
    "        cube[0] = cube_arr[0] * 5.5 + 7.\n",
    "        ##cube[0] = 10**(cube[0] * 5.5 - 3) # basically, this sets bounds on the mass: 7 to 12.5 -> -3 to 2 (A=1 -> 10^10)\n",
    "        cube[1] = cube_arr[1] * 10 # mu: 0 to 10\n",
    "        cube[2] = cube_arr[2] * 4.8 + 0.2 # sigma: 0.2 to 5 # NEED TO ALLOW SMALLER VALUES\n",
    "        ##cube[3] = cube[3] * 10 # z: 0 to 10\n",
    "        cube[3] = 10**(0.3 * erfinv(2.*(cube_arr[3]-0.5))) # metallicity scatter: Gaussian about 0, sigma = 0.3 dex - pinch this at some limiting values - 0.001, 0.999??\n",
    "        cube[4] = cube_arr[4] * 2.  # dust extinction (doubled in birth clouds): 0 to 2.\n",
    "        cube[5] = 10**(cube_arr[5]) - 1. # log-spaced redshift sampling, z: 0 to 9.\n",
    "        ##cube[5] = cube[5] # z: 0 to 9. The log spacing is set earlier, so we just output the same value\n",
    "        return cube\n",
    "    \n",
    "def untransform(cube_arr):\n",
    "        cube = cube_arr.copy()\n",
    "        cube[0] = (cube_arr[0] -7.) /  5.5\n",
    "        cube[1] = cube_arr[1] / 10 # mu: 0 to 10\n",
    "        cube[2] = (cube_arr[2] - 0.2) / 4.8 # sigma: 0.2 to 5 \n",
    "        cube[3] = erf(np.log10(cube_arr[3]) / 0.3)/2. + 0.5 # metallicity scatter: Gaussian about 0, sigma = 0.3 dex - pinch this at some limiting values - 0.001, 0.999??\n",
    "        cube[4] = cube_arr[4] / 2.  # dust extinction (doubled in birth clouds): 0 to 2.\n",
    "        cube[5] = np.log10(cube_arr[5] + 1.) # log-spaced redshift sampling, z: 0 to 9.\n",
    "        return cube\n",
    "    \n",
    "def gauss(x, z, A, mu, sig):\n",
    "    return A * exp(-0.5 * ((mu - x / (1. + z))/sig)**2)\n",
    "\n",
    "#def get_mod_phot(A, mu, sig, met, dust, z):\n",
    "#    y, yerr = mod.predict_y(np.array([A, mu, sig, met, dust, z]).reshape(1,-1))\n",
    "#    return 10**((30.-y[0,:12])/2.5)\n",
    "\n",
    "def get_mod_phot(pars):\n",
    "    y, yerr = mod.predict_y(pars.reshape(1,-1))\n",
    "    return 10**((30.-y[0,:12])/2.5)"
   ]
  },
  {
   "cell_type": "code",
   "execution_count": 3,
   "metadata": {},
   "outputs": [
    {
     "name": "stdout",
     "output_type": "stream",
     "text": [
      "(2000, 22) (2000, 6)\n",
      "(2000, 22) (2000, 6) float32 float32\n"
     ]
    },
    {
     "name": "stderr",
     "output_type": "stream",
     "text": [
      "WARNING:gpflow.logdensities:Shape of x must be 2D at computation.\n"
     ]
    },
    {
     "name": "stdout",
     "output_type": "stream",
     "text": [
      "INFO:tensorflow:Restoring parameters from ./model.ckpt\n"
     ]
    },
    {
     "name": "stderr",
     "output_type": "stream",
     "text": [
      "INFO:tensorflow:Restoring parameters from ./model.ckpt\n"
     ]
    },
    {
     "name": "stdout",
     "output_type": "stream",
     "text": [
      "(24, 100)\n",
      "[ 113.59124425  152.07282589  280.44159409  455.1680977   914.18239103\n",
      " 1319.92291085 1634.51182869 2688.70421816 3544.20375418 5548.22170976\n",
      " 7994.54086543 6039.96450056]\n"
     ]
    }
   ],
   "source": [
    "# pick which object (for testing)\n",
    "i_obj = 46\n",
    "\n",
    "# read yaml\n",
    "config = yaml.load(open(\"grid.yaml\"))\n",
    "\n",
    "# read in the emulator, compute it if needed. Pickling the object doesn't seem to work?\n",
    "if config['train_emu'] == True:\n",
    "    mod = ge.make_emulator_GPflow()\n",
    "else:\n",
    "    mod = ge.load_emulator_GPflow()\n",
    "\n",
    "# load data\n",
    "ndata = 100\n",
    "if ndata > 0:\n",
    "    with h5py.File(\"UDS_DR11_spec.h5\", 'r') as f:\n",
    "        x = np.array(f['x'].value)\n",
    "        y = np.array(f['y'][:,:ndata])\n",
    "else:\n",
    "    with h5py.File(\"UDS_DR11_spec.h5\", 'r') as f:\n",
    "        x = np.array(f['x'].value)\n",
    "        y = np.array(f['y'].value)\n",
    "\n",
    "nx, ndata = y.shape\n",
    "# y has fluxes followed by flux errors.\n",
    "\n",
    "# we want to add systematic errors to the photometry, by band:\n",
    "bands = ['u','B','V','R','i','z','Y','J','H','K','I1','I2']\n",
    "syst_errs = np.array([0.05, 0.03, 0.03, 0.03, 0.03, 0.03, 0.03, 0.03, 0.03, 0.03, 0.1, 0.1])\n",
    "y[int(nx/2):,:] = np.sqrt((y[int(nx/2):,:]*y[int(nx/2):,:]) + (np.tile(syst_errs, ndata).reshape((ndata,int(nx/2))).T * y[:int(nx/2),:])**2)\n",
    "waves = np.array([3796.11571888, 4458.05618762, 5477.41955513, 6532.37444814, 7682.94106106, 9036.67456649, 10212.72604114, 12510.43831574, 16387.79389646, 22084.84812739, 35572.60440514, 44976.10885919])\n",
    "\n",
    "\n",
    "params = ['A', 'mu', 'sig', 'met', 'tau', 'z']\n",
    "nparams = len(params)\n",
    "\n",
    "print(y.shape)\n",
    "# length of data vector\n",
    "n = len(y[:int(nx/2),i_obj])\n",
    "\n",
    "fluxes = y[:int(nx/2),i_obj]\n",
    "flux_errs = y[int(nx/2):,i_obj]\n",
    "print(fluxes)"
   ]
  },
  {
   "cell_type": "code",
   "execution_count": 4,
   "metadata": {},
   "outputs": [
    {
     "data": {
      "text/plain": [
       "array([0.61972037, 0.93692413, 0.21792744, 0.99041568, 0.99346398,\n",
       "       0.2732375 ])"
      ]
     },
     "execution_count": 4,
     "metadata": {},
     "output_type": "execute_result"
    }
   ],
   "source": [
    "# Get the MAP, as output by multinest\n",
    "tmp = []\n",
    "with open(\"test2_summary.txt\") as f:\n",
    "    for line in f:\n",
    "        tmp.append(line.split())\n",
    "MAP = np.array(tmp[0][12:18], dtype=float64)\n",
    "MAP"
   ]
  },
  {
   "cell_type": "code",
   "execution_count": 5,
   "metadata": {},
   "outputs": [
    {
     "data": {
      "text/plain": [
       "array([10.40846203,  9.36924132,  1.24605172,  3.13951876,  1.98692796,\n",
       "        0.87602017])"
      ]
     },
     "execution_count": 5,
     "metadata": {},
     "output_type": "execute_result"
    }
   ],
   "source": [
    "# convert unit cube to physical values\n",
    "MAP_phys = priortransform(MAP)\n",
    "MAP_phys"
   ]
  },
  {
   "cell_type": "code",
   "execution_count": 6,
   "metadata": {},
   "outputs": [
    {
     "name": "stdout",
     "output_type": "stream",
     "text": [
      "[0.61972037 0.93692413 0.21792744 0.99041568 0.99346398 0.2732375 ]\n",
      "[ 110.27274769  156.2291163   258.19613285  455.2624498   926.94230089\n",
      " 1459.11278625 1734.82766928 2314.2791504  3664.68553198 5319.81446096\n",
      " 7330.18005949 6265.86441223]\n"
     ]
    }
   ],
   "source": [
    "# Now get the photometry at the MAP point\n",
    "#MAP = np.array([0.8,0.5,0.5,0.5,0.5,0.5])\n",
    "print(MAP)\n",
    "ypred = get_mod_phot(MAP)\n",
    "print(ypred)\n",
    "#MAP = np.array([2.07e-01, 3.30e-01, 9.61e-05, 2.22e-03, 6.92e-02, 4.27e-01])\n",
    "#ypred = get_mod_phot(MAP)\n",
    "#print(ypred)"
   ]
  },
  {
   "cell_type": "code",
   "execution_count": 7,
   "metadata": {},
   "outputs": [
    {
     "data": {
      "text/plain": [
       "<matplotlib.legend.Legend at 0x7f0438f7c0f0>"
      ]
     },
     "execution_count": 7,
     "metadata": {},
     "output_type": "execute_result"
    },
    {
     "data": {
      "image/png": "[encoded data removed]",
      "text/plain": [
       "<Figure size 1008x432 with 1 Axes>"
      ]
     },
     "metadata": {},
     "output_type": "display_data"
    }
   ],
   "source": [
    "labels = ['u', 'B', 'V', 'R', 'i', 'z', 'Y', 'J', 'H', 'K', 'I1', 'I2']\n",
    "fig = plt.figure(figsize=(14,6))\n",
    "ax = fig.add_subplot(111)\n",
    "ax.plot(waves,fluxes/waves,'o',c='blue', label='data')\n",
    "ax.errorbar(waves,fluxes/waves,yerr=flux_errs/waves,c='blue',fmt='o')\n",
    "ax.plot(waves,ypred/waves,'o',c='red', label='model')\n",
    "ax.set_xlabel('$\\lambda$~(A)', fontsize='24')\n",
    "ax.set_ylabel(r\"$\\nu~f_{\\nu}$\", fontsize='24')\n",
    "#ax.set_yscale('log')\n",
    "for i,j,k in zip(waves,fluxes/waves,labels):\n",
    "    ax.annotate('%s' %k, xy=(i,j), xytext=(-10,10), textcoords='offset points')\n",
    "ax.legend(fontsize='24')"
   ]
  },
  {
   "cell_type": "code",
   "execution_count": 8,
   "metadata": {},
   "outputs": [
    {
     "data": {
      "text/plain": [
       "<matplotlib.legend.Legend at 0x7f0438f6e8d0>"
      ]
     },
     "execution_count": 8,
     "metadata": {},
     "output_type": "execute_result"
    },
    {
     "data": {
      "image/png": "[encoded data removed]",
      "text/plain": [
       "<Figure size 1008x432 with 1 Axes>"
      ]
     },
     "metadata": {},
     "output_type": "display_data"
    }
   ],
   "source": [
    "labels = ['u', 'B', 'V', 'R', 'i', 'z', 'Y', 'J', 'H', 'K', 'I1', 'I2']\n",
    "fig = plt.figure(figsize=(14,6))\n",
    "ax = fig.add_subplot(111)\n",
    "ax.plot(waves,fluxes/waves,'o',c='blue', label='data')\n",
    "ax.errorbar(waves,fluxes/waves,yerr=flux_errs/waves,c='blue',fmt='o')\n",
    "ax.plot(waves,ypred/waves,'o',c='red', label='model')\n",
    "ax.set_xlabel('$\\lambda$~(A)', fontsize='24')\n",
    "ax.set_ylabel(r\"$\\nu~f_{\\nu}$\", fontsize='24')\n",
    "ax.set_yscale('log')\n",
    "for i,j,k in zip(waves,fluxes/waves,labels):\n",
    "    ax.annotate('%s' %k, xy=(i,j), xytext=(-10,10), textcoords='offset points')\n",
    "ax.legend(fontsize='24')"
   ]
  },
  {
   "cell_type": "code",
   "execution_count": 9,
   "metadata": {},
   "outputs": [],
   "source": [
    "#['A', 'mu', 'sig', 'met', 'tau', 'z']\n",
    "#phys = np.array([10.1, 1.29961661, 0.30046134, 0.24921502, 0.4233902, 3.438])\n",
    "#cube_loc = untransform(phys)\n",
    "#print(cube_loc)\n",
    "#ypred = get_mod_phot(cube_loc)\n",
    "#print(ypred)"
   ]
  },
  {
   "cell_type": "code",
   "execution_count": 10,
   "metadata": {},
   "outputs": [],
   "source": [
    "#labels = ['u', 'B', 'V', 'R', 'i', 'z', 'Y', 'J', 'H', 'K', 'I1', 'I2']\n",
    "#fig = plt.figure(figsize=(14,6))\n",
    "#ax = fig.add_subplot(111)\n",
    "#ax.plot(waves,fluxes/waves,'o',c='blue', label='data')\n",
    "#ax.errorbar(waves,fluxes/waves,yerr=flux_errs/waves,c='blue',fmt='o')\n",
    "#ax.plot(waves,ypred/waves,'o',c='red', label='model')\n",
    "#ax.set_xlabel('$\\lambda$~(A)', fontsize='24')\n",
    "#ax.set_ylabel(r\"$\\nu~f_{\\nu}~({\\rm erg~s^{-1}~cm^{-2}})$\", fontsize='24')\n",
    "#ax.set_yscale('log')\n",
    "#for i,j,k in zip(waves,fluxes/waves,labels):\n",
    "#    ax.annotate('%s' %k, xy=(i,j), xytext=(-10,10), textcoords='offset points')\n",
    "#ax.legend(fontsize='24')"
   ]
  },
  {
   "cell_type": "code",
   "execution_count": 11,
   "metadata": {},
   "outputs": [
    {
     "name": "stdout",
     "output_type": "stream",
     "text": [
      "ok\n",
      "still ok\n",
      "[26.53234565 26.10477747 25.34981232 24.73962079 23.6854042  23.19886528\n",
      " 22.98491943 22.64253567 22.05875078 21.54838273 21.08161541 21.25535665\n",
      " 26.40511829 25.82984508 24.7750076  23.59370453 23.175446   23.05231027\n",
      " 22.98454487 22.64075227 22.04843273 21.58294605]\n",
      "got spectrum\n",
      "10.408462034792976 30478662537.062634 2.1644488456622697e-07\n"
     ]
    }
   ],
   "source": [
    "# we actually want the spectrum to plot.\n",
    "wave, spec = gfp.get_fsps_spec(MAP)\n",
    "f_test = gfp.get_fsps_fluxes(MAP)"
   ]
  },
  {
   "cell_type": "code",
   "execution_count": 12,
   "metadata": {},
   "outputs": [
    {
     "data": {
      "text/plain": [
       "<matplotlib.legend.Legend at 0x7f0438e6c8d0>"
      ]
     },
     "execution_count": 12,
     "metadata": {},
     "output_type": "execute_result"
    },
    {
     "data": {
      "image/png": "[encoded data removed]",
      "text/plain": [
       "<Figure size 1008x432 with 1 Axes>"
      ]
     },
     "metadata": {},
     "output_type": "display_data"
    }
   ],
   "source": [
    "fig = plt.figure(figsize=(14,6))\n",
    "ax = fig.add_subplot(111)\n",
    "ax.plot(waves,fluxes/waves,'o',c='blue', label='data')\n",
    "ax.errorbar(waves,fluxes/waves,yerr=flux_errs/waves,c='blue',fmt='o')\n",
    "ax.plot(wave,spec/wave,'-',c='orange', label='model')\n",
    "ax.plot(waves,10**((30.-f_test[:12])/2.5) / waves,'o',c='red')\n",
    "ax.set_xlabel('$\\lambda$~(A)', fontsize='24')\n",
    "ax.set_ylabel(r\"$\\nu~f_{\\nu}$\", fontsize='24')\n",
    "#ax.set_yscale('log')\n",
    "ax.set_xscale('log')\n",
    "ax.set_xlim([3200.,60000.])\n",
    "ax.set_ylim([0.02,0.3])\n",
    "for i,j,k in zip(waves,fluxes/waves,labels):\n",
    "    ax.annotate('%s' %k, xy=(i,j), xytext=(-10,10), textcoords='offset points')\n",
    "ax.legend(fontsize='24')"
   ]
  },
  {
   "cell_type": "code",
   "execution_count": null,
   "metadata": {},
   "outputs": [],
   "source": []
  },
  {
   "cell_type": "code",
   "execution_count": 13,
   "metadata": {},
   "outputs": [
    {
     "name": "stdout",
     "output_type": "stream",
     "text": [
      "[5.40934707e-19 1.28492052e-18 2.67827613e-18 ... 4.82614720e+01\n",
      " 4.69845342e+01 4.57729258e+01]\n"
     ]
    }
   ],
   "source": [
    "print(spec)"
   ]
  },
  {
   "cell_type": "code",
   "execution_count": null,
   "metadata": {},
   "outputs": [],
   "source": []
  }
 ],
 "metadata": {
  "kernelspec": {
   "display_name": "Python 2",
   "language": "python",
   "name": "python2"
  },
  "language_info": {
   "codemirror_mode": {
    "name": "ipython",
    "version": 3
   },
   "file_extension": ".py",
   "mimetype": "text/x-python",
   "name": "python",
   "nbconvert_exporter": "python",
   "pygments_lexer": "ipython3",
   "version": "3.6.4"
  }
 },
 "nbformat": 4,
 "nbformat_minor": 2
}
