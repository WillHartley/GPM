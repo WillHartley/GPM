{
 "cells": [
  {
   "cell_type": "code",
   "execution_count": 23,
   "metadata": {},
   "outputs": [],
   "source": [
    "from __future__ import print_function, division\n",
    "import numpy as np\n",
    "from chainconsumer import ChainConsumer\n",
    "import astropy.io.fits as pyfits\n",
    "from scipy.special import erfinv"
   ]
  },
  {
   "cell_type": "code",
   "execution_count": 24,
   "metadata": {},
   "outputs": [],
   "source": [
    "def priortransform(cube):\n",
    "        # definition of the parameter width, by transforming from a unit cube - switched redshift to be the last index\n",
    "        # skip this, emu on unit cube\n",
    "        #cube = cube.copy()\n",
    "        cube[0] = cube[0] * 5.5 + 7.\n",
    "        ##cube[0] = 10**(cube[0] * 5.5 - 3) # basically, this sets bounds on the mass: 7 to 12.5 -> -3 to 2 (A=1 -> 10^10)\n",
    "        cube[1] = cube[1] * 10 # mu: 0 to 10\n",
    "        cube[2] = cube[2] * 4.8 + 0.2 # sigma: 0.2 to 5 \n",
    "        ##cube[3] = cube[3] * 10 # z: 0 to 10\n",
    "        cube[3] = 10**(0.3 * erfinv(2.*(cube[3]-0.5)))  # metallicity scatter: Gaussian about 0, sigma = 0.3 dex - pinch this at some limiting values - 0.001, 0.999??\n",
    "        cube[4] = cube[4] * 2.  # dust extinction (doubled in birth clouds): 0 to 2.\n",
    "        cube[5] = 10**(cube[5]) - 1. # log-spaced redshift sampling, z: 0 to 9.\n",
    "        ##cube[5] = cube[5] # z: 0 to 9. The log spacing is set earlier, so we just output the same value\n",
    "        return cube\n"
   ]
  },
  {
   "cell_type": "code",
   "execution_count": 25,
   "metadata": {},
   "outputs": [],
   "source": [
    "data = pyfits.open('tmp_mcmc_GPflow.fits')[1].data[2000:]\n",
    "chain = np.vstack((data['Mass'],data['mu'],data['sigma'],data['metallicity'],data['dust'],data['z'])).T"
   ]
  },
  {
   "cell_type": "code",
   "execution_count": 26,
   "metadata": {},
   "outputs": [
    {
     "data": {
      "text/plain": [
       "(7000, 6)"
      ]
     },
     "execution_count": 26,
     "metadata": {},
     "output_type": "execute_result"
    }
   ],
   "source": [
    "chain.shape"
   ]
  },
  {
   "cell_type": "code",
   "execution_count": 27,
   "metadata": {},
   "outputs": [],
   "source": [
    "# convert unit cube into physical values\n",
    "for i in range(chain.shape[0]):\n",
    "    chain[i,:] = priortransform(chain[i,:])"
   ]
  },
  {
   "cell_type": "code",
   "execution_count": 28,
   "metadata": {},
   "outputs": [],
   "source": [
    "c = ChainConsumer().add_chain(chain, parameters=[\"$Mass$\", \"$mu$\", \"$sigma$\", \"$metallicity$\", \"$dust$\", \"$z$\"])"
   ]
  },
  {
   "cell_type": "code",
   "execution_count": 34,
   "metadata": {},
   "outputs": [
    {
     "name": "stderr",
     "output_type": "stream",
     "text": [
      "/home/will/anaconda3/lib/python3.6/site-packages/numpy/core/_methods.py:29: RuntimeWarning: invalid value encountered in reduce\n",
      "  return umr_minimum(a, axis, None, out, keepdims)\n",
      "/home/will/anaconda3/lib/python3.6/site-packages/numpy/core/_methods.py:26: RuntimeWarning: invalid value encountered in reduce\n",
      "  return umr_maximum(a, axis, None, out, keepdims)\n",
      "WARNING:matplotlib.text:posx and posy should be finite values\n",
      "WARNING:matplotlib.text:posx and posy should be finite values\n",
      "WARNING:matplotlib.text:posx and posy should be finite values\n",
      "WARNING:matplotlib.text:posx and posy should be finite values\n",
      "WARNING:matplotlib.text:posx and posy should be finite values\n",
      "WARNING:matplotlib.text:posx and posy should be finite values\n",
      "WARNING:matplotlib.text:posx and posy should be finite values\n",
      "WARNING:matplotlib.text:posx and posy should be finite values\n",
      "WARNING:matplotlib.text:posx and posy should be finite values\n",
      "WARNING:matplotlib.text:posx and posy should be finite values\n",
      "WARNING:matplotlib.text:posx and posy should be finite values\n",
      "WARNING:matplotlib.text:posx and posy should be finite values\n",
      "WARNING:matplotlib.text:posx and posy should be finite values\n",
      "WARNING:matplotlib.text:posx and posy should be finite values\n",
      "WARNING:matplotlib.text:posx and posy should be finite values\n",
      "WARNING:matplotlib.text:posx and posy should be finite values\n",
      "WARNING:matplotlib.text:posx and posy should be finite values\n",
      "WARNING:matplotlib.text:posx and posy should be finite values\n",
      "WARNING:matplotlib.text:posx and posy should be finite values\n",
      "WARNING:matplotlib.text:posx and posy should be finite values\n",
      "WARNING:matplotlib.text:posx and posy should be finite values\n",
      "WARNING:matplotlib.text:posx and posy should be finite values\n",
      "WARNING:matplotlib.text:posx and posy should be finite values\n",
      "WARNING:matplotlib.text:posx and posy should be finite values\n",
      "WARNING:matplotlib.text:posx and posy should be finite values\n",
      "WARNING:matplotlib.text:posx and posy should be finite values\n",
      "WARNING:matplotlib.text:posx and posy should be finite values\n",
      "WARNING:matplotlib.text:posx and posy should be finite values\n",
      "WARNING:matplotlib.text:posx and posy should be finite values\n",
      "WARNING:matplotlib.text:posx and posy should be finite values\n",
      "WARNING:matplotlib.text:posx and posy should be finite values\n",
      "WARNING:matplotlib.text:posx and posy should be finite values\n",
      "WARNING:matplotlib.text:posx and posy should be finite values\n",
      "WARNING:matplotlib.text:posx and posy should be finite values\n",
      "WARNING:matplotlib.text:posx and posy should be finite values\n",
      "WARNING:matplotlib.text:posx and posy should be finite values\n",
      "WARNING:matplotlib.text:posx and posy should be finite values\n",
      "WARNING:matplotlib.text:posx and posy should be finite values\n",
      "WARNING:matplotlib.text:posx and posy should be finite values\n",
      "WARNING:matplotlib.text:posx and posy should be finite values\n",
      "WARNING:matplotlib.text:posx and posy should be finite values\n",
      "WARNING:matplotlib.text:posx and posy should be finite values\n",
      "WARNING:matplotlib.text:posx and posy should be finite values\n",
      "WARNING:matplotlib.text:posx and posy should be finite values\n",
      "WARNING:matplotlib.text:posx and posy should be finite values\n",
      "WARNING:matplotlib.text:posx and posy should be finite values\n",
      "WARNING:matplotlib.text:posx and posy should be finite values\n",
      "WARNING:matplotlib.text:posx and posy should be finite values\n",
      "WARNING:matplotlib.text:posx and posy should be finite values\n",
      "WARNING:matplotlib.text:posx and posy should be finite values\n",
      "WARNING:matplotlib.text:posx and posy should be finite values\n",
      "WARNING:matplotlib.text:posx and posy should be finite values\n",
      "WARNING:matplotlib.text:posx and posy should be finite values\n",
      "WARNING:matplotlib.text:posx and posy should be finite values\n",
      "WARNING:matplotlib.text:posx and posy should be finite values\n",
      "WARNING:matplotlib.text:posx and posy should be finite values\n",
      "WARNING:matplotlib.text:posx and posy should be finite values\n",
      "WARNING:matplotlib.text:posx and posy should be finite values\n",
      "WARNING:matplotlib.text:posx and posy should be finite values\n",
      "WARNING:matplotlib.text:posx and posy should be finite values\n",
      "WARNING:matplotlib.text:posx and posy should be finite values\n",
      "WARNING:matplotlib.text:posx and posy should be finite values\n"
     ]
    },
    {
     "ename": "RuntimeError",
     "evalue": "libpng signaled error",
     "output_type": "error",
     "traceback": [
      "\u001b[0;31m---------------------------------------------------------------------------\u001b[0m",
      "\u001b[0;31mRuntimeError\u001b[0m                              Traceback (most recent call last)",
      "\u001b[0;32m~/anaconda3/lib/python3.6/site-packages/IPython/core/formatters.py\u001b[0m in \u001b[0;36m__call__\u001b[0;34m(self, obj)\u001b[0m\n\u001b[1;32m    339\u001b[0m                 \u001b[0;32mpass\u001b[0m\u001b[0;34m\u001b[0m\u001b[0m\n\u001b[1;32m    340\u001b[0m             \u001b[0;32melse\u001b[0m\u001b[0;34m:\u001b[0m\u001b[0;34m\u001b[0m\u001b[0m\n\u001b[0;32m--> 341\u001b[0;31m                 \u001b[0;32mreturn\u001b[0m \u001b[0mprinter\u001b[0m\u001b[0;34m(\u001b[0m\u001b[0mobj\u001b[0m\u001b[0;34m)\u001b[0m\u001b[0;34m\u001b[0m\u001b[0m\n\u001b[0m\u001b[1;32m    342\u001b[0m             \u001b[0;31m# Finally look for special method names\u001b[0m\u001b[0;34m\u001b[0m\u001b[0;34m\u001b[0m\u001b[0m\n\u001b[1;32m    343\u001b[0m             \u001b[0mmethod\u001b[0m \u001b[0;34m=\u001b[0m \u001b[0mget_real_method\u001b[0m\u001b[0;34m(\u001b[0m\u001b[0mobj\u001b[0m\u001b[0;34m,\u001b[0m \u001b[0mself\u001b[0m\u001b[0;34m.\u001b[0m\u001b[0mprint_method\u001b[0m\u001b[0;34m)\u001b[0m\u001b[0;34m\u001b[0m\u001b[0m\n",
      "\u001b[0;32m~/anaconda3/lib/python3.6/site-packages/IPython/core/pylabtools.py\u001b[0m in \u001b[0;36m<lambda>\u001b[0;34m(fig)\u001b[0m\n\u001b[1;32m    236\u001b[0m \u001b[0;34m\u001b[0m\u001b[0m\n\u001b[1;32m    237\u001b[0m     \u001b[0;32mif\u001b[0m \u001b[0;34m'png'\u001b[0m \u001b[0;32min\u001b[0m \u001b[0mformats\u001b[0m\u001b[0;34m:\u001b[0m\u001b[0;34m\u001b[0m\u001b[0m\n\u001b[0;32m--> 238\u001b[0;31m         \u001b[0mpng_formatter\u001b[0m\u001b[0;34m.\u001b[0m\u001b[0mfor_type\u001b[0m\u001b[0;34m(\u001b[0m\u001b[0mFigure\u001b[0m\u001b[0;34m,\u001b[0m \u001b[0;32mlambda\u001b[0m \u001b[0mfig\u001b[0m\u001b[0;34m:\u001b[0m \u001b[0mprint_figure\u001b[0m\u001b[0;34m(\u001b[0m\u001b[0mfig\u001b[0m\u001b[0;34m,\u001b[0m \u001b[0;34m'png'\u001b[0m\u001b[0;34m,\u001b[0m \u001b[0;34m**\u001b[0m\u001b[0mkwargs\u001b[0m\u001b[0;34m)\u001b[0m\u001b[0;34m)\u001b[0m\u001b[0;34m\u001b[0m\u001b[0m\n\u001b[0m\u001b[1;32m    239\u001b[0m     \u001b[0;32mif\u001b[0m \u001b[0;34m'retina'\u001b[0m \u001b[0;32min\u001b[0m \u001b[0mformats\u001b[0m \u001b[0;32mor\u001b[0m \u001b[0;34m'png2x'\u001b[0m \u001b[0;32min\u001b[0m \u001b[0mformats\u001b[0m\u001b[0;34m:\u001b[0m\u001b[0;34m\u001b[0m\u001b[0m\n\u001b[1;32m    240\u001b[0m         \u001b[0mpng_formatter\u001b[0m\u001b[0;34m.\u001b[0m\u001b[0mfor_type\u001b[0m\u001b[0;34m(\u001b[0m\u001b[0mFigure\u001b[0m\u001b[0;34m,\u001b[0m \u001b[0;32mlambda\u001b[0m \u001b[0mfig\u001b[0m\u001b[0;34m:\u001b[0m \u001b[0mretina_figure\u001b[0m\u001b[0;34m(\u001b[0m\u001b[0mfig\u001b[0m\u001b[0;34m,\u001b[0m \u001b[0;34m**\u001b[0m\u001b[0mkwargs\u001b[0m\u001b[0;34m)\u001b[0m\u001b[0;34m)\u001b[0m\u001b[0;34m\u001b[0m\u001b[0m\n",
      "\u001b[0;32m~/anaconda3/lib/python3.6/site-packages/IPython/core/pylabtools.py\u001b[0m in \u001b[0;36mprint_figure\u001b[0;34m(fig, fmt, bbox_inches, **kwargs)\u001b[0m\n\u001b[1;32m    120\u001b[0m \u001b[0;34m\u001b[0m\u001b[0m\n\u001b[1;32m    121\u001b[0m     \u001b[0mbytes_io\u001b[0m \u001b[0;34m=\u001b[0m \u001b[0mBytesIO\u001b[0m\u001b[0;34m(\u001b[0m\u001b[0;34m)\u001b[0m\u001b[0;34m\u001b[0m\u001b[0m\n\u001b[0;32m--> 122\u001b[0;31m     \u001b[0mfig\u001b[0m\u001b[0;34m.\u001b[0m\u001b[0mcanvas\u001b[0m\u001b[0;34m.\u001b[0m\u001b[0mprint_figure\u001b[0m\u001b[0;34m(\u001b[0m\u001b[0mbytes_io\u001b[0m\u001b[0;34m,\u001b[0m \u001b[0;34m**\u001b[0m\u001b[0mkw\u001b[0m\u001b[0;34m)\u001b[0m\u001b[0;34m\u001b[0m\u001b[0m\n\u001b[0m\u001b[1;32m    123\u001b[0m     \u001b[0mdata\u001b[0m \u001b[0;34m=\u001b[0m \u001b[0mbytes_io\u001b[0m\u001b[0;34m.\u001b[0m\u001b[0mgetvalue\u001b[0m\u001b[0;34m(\u001b[0m\u001b[0;34m)\u001b[0m\u001b[0;34m\u001b[0m\u001b[0m\n\u001b[1;32m    124\u001b[0m     \u001b[0;32mif\u001b[0m \u001b[0mfmt\u001b[0m \u001b[0;34m==\u001b[0m \u001b[0;34m'svg'\u001b[0m\u001b[0;34m:\u001b[0m\u001b[0;34m\u001b[0m\u001b[0m\n",
      "\u001b[0;32m~/anaconda3/lib/python3.6/site-packages/matplotlib/backend_bases.py\u001b[0m in \u001b[0;36mprint_figure\u001b[0;34m(self, filename, dpi, facecolor, edgecolor, orientation, format, **kwargs)\u001b[0m\n\u001b[1;32m   2261\u001b[0m                 \u001b[0morientation\u001b[0m\u001b[0;34m=\u001b[0m\u001b[0morientation\u001b[0m\u001b[0;34m,\u001b[0m\u001b[0;34m\u001b[0m\u001b[0m\n\u001b[1;32m   2262\u001b[0m                 \u001b[0mbbox_inches_restore\u001b[0m\u001b[0;34m=\u001b[0m\u001b[0m_bbox_inches_restore\u001b[0m\u001b[0;34m,\u001b[0m\u001b[0;34m\u001b[0m\u001b[0m\n\u001b[0;32m-> 2263\u001b[0;31m                 **kwargs)\n\u001b[0m\u001b[1;32m   2264\u001b[0m         \u001b[0;32mfinally\u001b[0m\u001b[0;34m:\u001b[0m\u001b[0;34m\u001b[0m\u001b[0m\n\u001b[1;32m   2265\u001b[0m             \u001b[0;32mif\u001b[0m \u001b[0mbbox_inches\u001b[0m \u001b[0;32mand\u001b[0m \u001b[0mrestore_bbox\u001b[0m\u001b[0;34m:\u001b[0m\u001b[0;34m\u001b[0m\u001b[0m\n",
      "\u001b[0;32m~/anaconda3/lib/python3.6/site-packages/matplotlib/backends/backend_agg.py\u001b[0m in \u001b[0;36mprint_png\u001b[0;34m(self, filename_or_obj, *args, **kwargs)\u001b[0m\n\u001b[1;32m    526\u001b[0m             \u001b[0;32mwith\u001b[0m \u001b[0mcbook\u001b[0m\u001b[0;34m.\u001b[0m\u001b[0mopen_file_cm\u001b[0m\u001b[0;34m(\u001b[0m\u001b[0mfilename_or_obj\u001b[0m\u001b[0;34m,\u001b[0m \u001b[0;34m\"wb\"\u001b[0m\u001b[0;34m)\u001b[0m \u001b[0;32mas\u001b[0m \u001b[0mfh\u001b[0m\u001b[0;34m:\u001b[0m\u001b[0;34m\u001b[0m\u001b[0m\n\u001b[1;32m    527\u001b[0m                 _png.write_png(renderer._renderer, fh,\n\u001b[0;32m--> 528\u001b[0;31m                                self.figure.dpi, metadata=metadata)\n\u001b[0m\u001b[1;32m    529\u001b[0m         \u001b[0;32mfinally\u001b[0m\u001b[0;34m:\u001b[0m\u001b[0;34m\u001b[0m\u001b[0m\n\u001b[1;32m    530\u001b[0m             \u001b[0mrenderer\u001b[0m\u001b[0;34m.\u001b[0m\u001b[0mdpi\u001b[0m \u001b[0;34m=\u001b[0m \u001b[0moriginal_dpi\u001b[0m\u001b[0;34m\u001b[0m\u001b[0m\n",
      "\u001b[0;31mRuntimeError\u001b[0m: libpng signaled error"
     ]
    },
    {
     "data": {
      "text/plain": [
       "<Figure size 648x648 with 36 Axes>"
      ]
     },
     "metadata": {},
     "output_type": "display_data"
    }
   ],
   "source": [
    "c.configure(kde=True, shade_alpha=0.1, flip=False)\n",
    "#fig = c.plotter.plot_distributions()\n",
    "fig = c.plotter.plot(extents=[(7, 12.5), (0, 10), (0.2, 5), (0., 3.), (0., 2.), (0., 9.)])"
   ]
  },
  {
   "cell_type": "code",
   "execution_count": 13,
   "metadata": {},
   "outputs": [],
   "source": [
    "#from numpy.random import normal, multivariate_normal"
   ]
  },
  {
   "cell_type": "code",
   "execution_count": 15,
   "metadata": {},
   "outputs": [
    {
     "data": {
      "text/plain": [
       "(100000, 3)"
      ]
     },
     "execution_count": 15,
     "metadata": {},
     "output_type": "execute_result"
    }
   ],
   "source": [
    "#np.random.seed(0)\n",
    "#cov = 1e2 * normal(size=(3, 3))\n",
    "#rdata = multivariate_normal(1e3 * normal(size=3), np.dot(cov, cov.T), size=100000)\n",
    "#rdata.shape"
   ]
  },
  {
   "cell_type": "code",
   "execution_count": null,
   "metadata": {},
   "outputs": [],
   "source": []
  }
 ],
 "metadata": {
  "kernelspec": {
   "display_name": "Python 2",
   "language": "python",
   "name": "python2"
  },
  "language_info": {
   "codemirror_mode": {
    "name": "ipython",
    "version": 3
   },
   "file_extension": ".py",
   "mimetype": "text/x-python",
   "name": "python",
   "nbconvert_exporter": "python",
   "pygments_lexer": "ipython3",
   "version": "3.6.4"
  }
 },
 "nbformat": 4,
 "nbformat_minor": 2
}
